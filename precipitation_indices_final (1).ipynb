{
  "nbformat": 4,
  "nbformat_minor": 0,
  "metadata": {
    "colab": {
      "name": "precipitation_indices_final.ipynb",
      "provenance": [],
      "collapsed_sections": []
    },
    "kernelspec": {
      "display_name": "Python 3",
      "language": "python",
      "name": "python3"
    },
    "language_info": {
      "codemirror_mode": {
        "name": "ipython",
        "version": 3
      },
      "file_extension": ".py",
      "mimetype": "text/x-python",
      "name": "python",
      "nbconvert_exporter": "python",
      "pygments_lexer": "ipython3",
      "version": "3.6.9"
    }
  },
  "cells": [
    {
      "cell_type": "code",
      "metadata": {
        "colab_type": "code",
        "id": "6416s4KF5rz8",
        "colab": {}
      },
      "source": [
        "from __future__ import print_function\n",
        "from scipy.io import loadmat\n",
        "from tqdm import tqdm\n",
        "from google.colab import drive\n",
        "import numpy as np\n",
        "import scipy\n",
        "import os"
      ],
      "execution_count": 0,
      "outputs": []
    },
    {
      "cell_type": "code",
      "metadata": {
        "id": "aterJPzCI6wa",
        "colab_type": "code",
        "colab": {
          "base_uri": "https://localhost:8080/",
          "height": 121
        },
        "outputId": "d4921dd1-8dad-4f80-8a1a-e0b9df32f9dc"
      },
      "source": [
        "drive.mount('/content/gdrive')"
      ],
      "execution_count": 2,
      "outputs": [
        {
          "output_type": "stream",
          "text": [
            "Go to this URL in a browser: https://accounts.google.com/o/oauth2/auth?client_id=947318989803-6bn6qk8qdgf4n4g3pfee6491hc0brc4i.apps.googleusercontent.com&redirect_uri=urn%3aietf%3awg%3aoauth%3a2.0%3aoob&response_type=code&scope=email%20https%3a%2f%2fwww.googleapis.com%2fauth%2fdocs.test%20https%3a%2f%2fwww.googleapis.com%2fauth%2fdrive%20https%3a%2f%2fwww.googleapis.com%2fauth%2fdrive.photos.readonly%20https%3a%2f%2fwww.googleapis.com%2fauth%2fpeopleapi.readonly\n",
            "\n",
            "Enter your authorization code:\n",
            "··········\n",
            "Mounted at /content/gdrive\n"
          ],
          "name": "stdout"
        }
      ]
    },
    {
      "cell_type": "code",
      "metadata": {
        "id": "bf7YsFdtI_D0",
        "colab_type": "code",
        "colab": {}
      },
      "source": [
        "os.chdir('/content/gdrive/My Drive/Independent Study')\n",
        "# os.listdir('./')"
      ],
      "execution_count": 0,
      "outputs": []
    },
    {
      "cell_type": "code",
      "metadata": {
        "colab_type": "code",
        "id": "VYIj1XyA5r0C",
        "colab": {}
      },
      "source": [
        "annots = loadmat('./mydata/2014.mat')\n",
        "data = annots['data']\n",
        "data = np.array(data)"
      ],
      "execution_count": 0,
      "outputs": []
    },
    {
      "cell_type": "code",
      "metadata": {
        "colab_type": "code",
        "id": "1H25zSub5r0F",
        "outputId": "fa6438a8-ea98-4580-8335-145565a963ff",
        "colab": {
          "base_uri": "https://localhost:8080/",
          "height": 34
        }
      },
      "source": [
        "data.shape\n"
      ],
      "execution_count": 7,
      "outputs": [
        {
          "output_type": "execute_result",
          "data": {
            "text/plain": [
              "(135, 129, 365)"
            ]
          },
          "metadata": {
            "tags": []
          },
          "execution_count": 7
        }
      ]
    },
    {
      "cell_type": "code",
      "metadata": {
        "colab_type": "code",
        "id": "CX6a59gc5r0I",
        "colab": {}
      },
      "source": [
        "data = data[4:125,4:125]"
      ],
      "execution_count": 0,
      "outputs": []
    },
    {
      "cell_type": "code",
      "metadata": {
        "colab_type": "code",
        "id": "-X3JQ5m15r0Z",
        "colab": {}
      },
      "source": [
        "shapefile = loadmat('india_regional_grid.mat')\n",
        "shapefile = shapefile['grid']  # 121x121 grid India file"
      ],
      "execution_count": 0,
      "outputs": []
    },
    {
      "cell_type": "code",
      "metadata": {
        "colab_type": "code",
        "id": "_TxjiossKoH0",
        "colab": {}
      },
      "source": [
        "# print(shapefile[51][92])"
      ],
      "execution_count": 0,
      "outputs": []
    },
    {
      "cell_type": "code",
      "metadata": {
        "colab_type": "code",
        "id": "6bC0TUi4IKFr",
        "colab": {}
      },
      "source": [
        "# c=0\n",
        "# d=0\n",
        "# for i in shapefile:\n",
        "#   for j in i:\n",
        "#     if j == 1:\n",
        "#       c+=1\n",
        "#     else: \n",
        "#       d+=1\n",
        "# print(c,\" \",d)"
      ],
      "execution_count": 0,
      "outputs": []
    },
    {
      "cell_type": "code",
      "metadata": {
        "colab_type": "code",
        "id": "W-Sy0upF5r0b",
        "colab": {}
      },
      "source": [
        "def shapeTransform(filename):\n",
        "    annots = loadmat(filename)\n",
        "    data = annots['data']\n",
        "    data = np.array(data)\n",
        "    data = data[4:125,4:125]\n",
        "    # print(data[60][60][200])\n",
        "    return data\n",
        "\n",
        "\n",
        "years = []\n",
        "resized_data = []\n",
        "for i in range(1901,2019):\n",
        "\tyears.append(\"./mydata/\"+str(i)+\".mat\")\n",
        "\n",
        "for i in years:\n",
        "\tresized_data.append(shapeTransform(i))\n",
        "\n"
      ],
      "execution_count": 0,
      "outputs": []
    },
    {
      "cell_type": "code",
      "metadata": {
        "colab_type": "code",
        "id": "owBgXFTs5r0e",
        "colab": {}
      },
      "source": [
        "def is_leap_year(year):\n",
        "    leap_year_months = [31, 29, 31, 30, 31, 30, 31, 31, 30, 31, 30, 31]\n",
        "    not_leap_year_months = [31, 28, 31, 30, 31, 30, 31, 31, 30, 31, 30, 31]\n",
        "    if (year % 4) == 0:\n",
        "        if (year % 100) == 0:\n",
        "            if (year % 400) == 0:\n",
        "                return True, leap_year_months\n",
        "            else:\n",
        "                return False, not_leap_year_months\n",
        "        else:\n",
        "            return True, leap_year_months\n",
        "    else:\n",
        "        return False, not_leap_year_months"
      ],
      "execution_count": 0,
      "outputs": []
    },
    {
      "cell_type": "code",
      "metadata": {
        "colab_type": "code",
        "id": "_arVrFXx5r0g",
        "colab": {}
      },
      "source": [
        "def calc_max(year):\n",
        "    c=0\n",
        "    dt = np.array(resized_data[year-1901]);\n",
        "    month_days = is_leap_year(year);\n",
        "    max_ind = np.zeros((121,121,12))\n",
        "    max_ind.fill(-1)\n",
        "    for i in range(121):\n",
        "        for j in range(121):\n",
        "            if not shapefile[i,j]:\n",
        "                c+=1\n",
        "                continue\n",
        "            cnt=0\n",
        "            for k in range(len(month_days[1])):\n",
        "                a = dt[:,:,cnt:cnt+month_days[1][k]]\n",
        "                max_val = np.max(a[i][j])\n",
        "                max_ind[i][j][k] = max_val;\n",
        "                cnt=cnt+month_days[1][k]\n",
        "    # return c\n",
        "    return max_ind"
      ],
      "execution_count": 0,
      "outputs": []
    },
    {
      "cell_type": "code",
      "metadata": {
        "colab_type": "code",
        "id": "73Nf7sbfX81y",
        "colab": {}
      },
      "source": [
        "def Rnnmm_calcuate(year,n):\n",
        "    dt = np.array(resized_data[year-1901]);\n",
        "    Rnnmm = np.zeros((121,121))\n",
        "    for i in range(121):\n",
        "        for j in range(121):\n",
        "          c=0\n",
        "          if not shapefile[i,j]:\n",
        "              continue\n",
        "          for k in dt[i][j]:\n",
        "            if k>=n:\n",
        "              c+=1\n",
        "          Rnnmm[i][j] = c;\n",
        "    return Rnnmm"
      ],
      "execution_count": 0,
      "outputs": []
    },
    {
      "cell_type": "code",
      "metadata": {
        "colab_type": "code",
        "id": "ihE88qljf0Xw",
        "colab": {}
      },
      "source": [
        "# CDD. Maximum length of dry spell, maximum number of consecutive days with RR < 1mm &&\n",
        "# CWD. Maximum length of wet spell, maximum number of consecutive days with RR ≥ 1mm: Calculations\n",
        "\n",
        "def dry_wet_spell(year):\n",
        "    dt = np.array(resized_data[year-1901]);\n",
        "    dry = np.zeros((121,121))\n",
        "    wet = np.zeros((121,121)) \n",
        "    for i in range(121):\n",
        "        for j in range(121):\n",
        "          maxDry = 0\n",
        "          maxWet = 0\n",
        "          cDry=0\n",
        "          cWet=0\n",
        "          flag=0\n",
        "          if not shapefile[i,j]:\n",
        "              continue\n",
        "          for rainfall in dt[i][j]:\n",
        "            if rainfall<1 and rainfall>=0:\n",
        "              cDry+=1\n",
        "              maxWet=max(maxWet,cWet)\n",
        "              cWet=0\n",
        "            if rainfall<0:\n",
        "              maxWet = -1\n",
        "              maxDry = -1\n",
        "            if rainfall>=1:\n",
        "              cWet+=1\n",
        "              maxDry=max(maxDry,cDry)\n",
        "              cDry=0\n",
        "          maxDry=max(maxDry,cDry)\n",
        "          maxWet=max(maxWet,cWet)\n",
        "          # print(maxDry)\n",
        "          dry[i][j] = maxDry;\n",
        "          wet[i][j] = maxWet;\n",
        "    return dry,wet"
      ],
      "execution_count": 0,
      "outputs": []
    },
    {
      "cell_type": "code",
      "metadata": {
        "colab_type": "code",
        "id": "_f_6D-SOIdNA",
        "colab": {}
      },
      "source": [
        "def calc_RX5_max(year):\n",
        "    c=0\n",
        "    dt = np.array(resized_data[year-1901]);\n",
        "    month_days = is_leap_year(year);\n",
        "    max_ind = np.zeros((121,121,12))\n",
        "    max_ind.fill(-1)\n",
        "    for i in range(121):\n",
        "        for j in range(121):\n",
        "            if not shapefile[i,j]:\n",
        "                c+=1\n",
        "                continue\n",
        "            cnt=0\n",
        "            for k in range(len(month_days[1])):\n",
        "                a = dt[:,:,cnt:cnt+month_days[1][k]]\n",
        "                arrPeryear = a[i][j]\n",
        "                max_val=0\n",
        "                ind=0\n",
        "                for l in range(len(arrPeryear)-4):\n",
        "                    max_val = max(max_val,np.sum(arrPeryear[ind:ind+5]));\n",
        "                    ind = ind + 1\n",
        "                max_ind[i][j][k] = max_val;\n",
        "                cnt=cnt+month_days[1][k]\n",
        "    return max_ind"
      ],
      "execution_count": 0,
      "outputs": []
    },
    {
      "cell_type": "code",
      "metadata": {
        "colab_type": "code",
        "id": "4P2-Bt38As8F",
        "colab": {}
      },
      "source": [
        "# PRCPTOT Calculation - . Annual total precipitation in wet days:\n",
        "\n",
        "def prcptot(year):\n",
        "    dt = np.array(resized_data[year-1901]);\n",
        "    total = np.zeros((121,121))\n",
        "    \n",
        "    for i in range(121):\n",
        "        for j in range(121):\n",
        "          wetRainfall = 0\n",
        "          if not shapefile[i,j]:\n",
        "              continue\n",
        "          for rainfall in dt[i][j]:\n",
        "            if rainfall>=1:\n",
        "              wetRainfall+=rainfall\n",
        "          total[i][j] = wetRainfall;\n",
        "    return total"
      ],
      "execution_count": 0,
      "outputs": []
    },
    {
      "cell_type": "code",
      "metadata": {
        "colab_type": "code",
        "id": "rty-oqiiYPyU",
        "colab": {}
      },
      "source": [
        "def percentile95(year):\n",
        "    dt = np.array(resized_data[year-1901]);\n",
        "    total = np.zeros((121,121))\n",
        "    for i in range(121):\n",
        "        for j in range(121):\n",
        "            if not shapefile[i,j]:\n",
        "                continue\n",
        "            val = np.percentile(dt[i][j], 95)\n",
        "            tt = 0\n",
        "            if(val<0):\n",
        "                total[i][j]=-1\n",
        "            for rainfall in dt[i][j]:\n",
        "                if(val<rainfall):\n",
        "                    tt = tt + val\n",
        "            total[i][j]=tt\n",
        "    return total"
      ],
      "execution_count": 0,
      "outputs": []
    },
    {
      "cell_type": "code",
      "metadata": {
        "colab_type": "code",
        "id": "dz6wj4riYZCY",
        "colab": {}
      },
      "source": [
        "def percentile99(year):\n",
        "    dt = np.array(resized_data[year-1901]);\n",
        "    total = np.zeros((121,121))\n",
        "    for i in range(121):\n",
        "        for j in range(121):\n",
        "            if not shapefile[i,j]:\n",
        "                continue\n",
        "            val = np.percentile(dt[i][j], 99)\n",
        "            tt = 0\n",
        "            if(val<0):\n",
        "                total[i][j]=-1\n",
        "            for rainfall in dt[i][j]:\n",
        "                if(val<rainfall):\n",
        "                    tt = tt + val\n",
        "            total[i][j]=tt\n",
        "    return total"
      ],
      "execution_count": 0,
      "outputs": []
    },
    {
      "cell_type": "code",
      "metadata": {
        "colab_type": "code",
        "id": "wpo7w3qoElDd",
        "colab": {}
      },
      "source": [
        "## SDII Simple pricipitation intensity index: Let RRwj be the daily precipitation amount on wet days\n",
        "\n",
        "def sdii(year):\n",
        "    dt = np.array(resized_data[year-1901]);\n",
        "    total = np.zeros((121,121))\n",
        "    for i in range(121):\n",
        "        for j in range(121):\n",
        "          wetRainfall = 0\n",
        "          no_wetdays = 0\n",
        "          if not shapefile[i,j]:\n",
        "              continue\n",
        "          for rainfall in dt[i][j]:\n",
        "            if rainfall>=1:\n",
        "              wetRainfall+=rainfall\n",
        "              no_wetdays +=1\n",
        "          if(no_wetdays==0):\n",
        "            if(dt[i][j][0] == -999):\n",
        "              total[i][j]=-1\n",
        "            else:\n",
        "              total[i][j]=0\n",
        "          else:\n",
        "            total[i][j] = wetRainfall/no_wetdays;\n",
        "    return total"
      ],
      "execution_count": 0,
      "outputs": []
    },
    {
      "cell_type": "code",
      "metadata": {
        "colab_type": "code",
        "id": "YZ1VX84BNOXu",
        "colab": {}
      },
      "source": [
        "# sdii(1901)"
      ],
      "execution_count": 0,
      "outputs": []
    },
    {
      "cell_type": "code",
      "metadata": {
        "colab_type": "code",
        "id": "u7sJouVV5r0k",
        "colab": {}
      },
      "source": [
        "# Calcuating 1st Precipitation Index Rx1day\n",
        "Rx1day = []\n",
        "for year in range(1901,2019):\n",
        "    max_ind = calc_max(year)\n",
        "    Rx1day.append(max_ind)"
      ],
      "execution_count": 0,
      "outputs": []
    },
    {
      "cell_type": "code",
      "metadata": {
        "colab_type": "code",
        "id": "pVm7SQGuImWe",
        "colab": {}
      },
      "source": [
        "# Calcuating Precipitation Index Rx5day\n",
        "Rx5day = []\n",
        "for year in range(1901,2019):\n",
        "    max_ind = calc_RX5_max(year)\n",
        "    Rx5day.append(max_ind)"
      ],
      "execution_count": 0,
      "outputs": []
    },
    {
      "cell_type": "code",
      "metadata": {
        "colab_type": "code",
        "id": "ZEOHm4ZVZCNn",
        "colab": {}
      },
      "source": [
        "# Calcuating 4th Precipitation Index R10mm\n",
        "R10mm = []\n",
        "for year in range(1901,2019):\n",
        "    max_ind = Rnnmm_calcuate(year,10)\n",
        "    R10mm.append(max_ind)"
      ],
      "execution_count": 0,
      "outputs": []
    },
    {
      "cell_type": "code",
      "metadata": {
        "colab_type": "code",
        "id": "PL3ujdQ-dqpV",
        "colab": {}
      },
      "source": [
        "R20mm = []\n",
        "for year in range(1901,2019):\n",
        "    max_ind = Rnnmm_calcuate(year,20)\n",
        "    R20mm.append(max_ind)"
      ],
      "execution_count": 0,
      "outputs": []
    },
    {
      "cell_type": "code",
      "metadata": {
        "colab_type": "code",
        "id": "vozthJxudrLz",
        "colab": {}
      },
      "source": [
        "R25mm = []\n",
        "for year in range(1901,2019):\n",
        "    max_ind = Rnnmm_calcuate(year,25)\n",
        "    R25mm.append(max_ind)"
      ],
      "execution_count": 0,
      "outputs": []
    },
    {
      "cell_type": "code",
      "metadata": {
        "colab_type": "code",
        "id": "hISmrEn0B7uw",
        "colab": {}
      },
      "source": [
        "PRCPTOT = []\n",
        "for year in range(1901,2019):\n",
        "    max_ind = prcptot(year)\n",
        "    PRCPTOT.append(max_ind)"
      ],
      "execution_count": 0,
      "outputs": []
    },
    {
      "cell_type": "code",
      "metadata": {
        "colab_type": "code",
        "id": "j7913BqNFQ3w",
        "colab": {}
      },
      "source": [
        "SDII = []\n",
        "for year in range(1901,2019):\n",
        "    max_ind = sdii(year)\n",
        "    SDII.append(max_ind)"
      ],
      "execution_count": 0,
      "outputs": []
    },
    {
      "cell_type": "code",
      "metadata": {
        "colab_type": "code",
        "id": "BBwxjVYmjS-T",
        "colab": {}
      },
      "source": [
        "drySpell = []\n",
        "wetSpell = []\n",
        "for year in range(1901,2019):\n",
        "  dry, wet = dry_wet_spell(year)\n",
        "  drySpell.append(dry)\n",
        "  wetSpell.append(wet)"
      ],
      "execution_count": 0,
      "outputs": []
    },
    {
      "cell_type": "markdown",
      "metadata": {
        "colab_type": "text",
        "id": "-GoSsVR_5r0n"
      },
      "source": [
        "### RX1DAY = 118 yrs * 121 * 121 * 12"
      ]
    },
    {
      "cell_type": "code",
      "metadata": {
        "colab_type": "code",
        "id": "VNh4tNZ1Z6Uf",
        "colab": {}
      },
      "source": [
        "## F1 for Annual Indices Calculation\n",
        "\n",
        "def f1(Rnmm):\n",
        "    avgPerYear = np.zeros((118))\n",
        "    for year in range(118):\n",
        "        numPoints = 0\n",
        "        yearTotal = 0\n",
        "        for i in range(121):\n",
        "            for j in range(121):\n",
        "                if shapefile[i][j] == 1:\n",
        "                  f=0\n",
        "                  if(Rnmm[year][i][j]<0):\n",
        "                    f+=1\n",
        "                    continue\n",
        "                  yearTotal += Rnmm[year][i][j]\n",
        "                  if f==0: #add to num points only if Rx1day[i][j][k] > 0\n",
        "                    numPoints = numPoints + 1\n",
        "        avgPerYear[year]=yearTotal/numPoints\n",
        "    return avgPerYear"
      ],
      "execution_count": 0,
      "outputs": []
    },
    {
      "cell_type": "code",
      "metadata": {
        "colab_type": "code",
        "id": "OSbQ1AsHY13L",
        "colab": {}
      },
      "source": [
        "def f3(Rnmm):\n",
        "    avgPerYear = np.zeros((30))\n",
        "    for year in range(30):\n",
        "        numPoints = 0\n",
        "        yearTotal = 0\n",
        "        for i in range(121):\n",
        "            for j in range(121):\n",
        "                if shapefile[i][j] == 1:\n",
        "                  f=0\n",
        "                  if(Rnmm[year][i][j]<0):\n",
        "                    f+=1\n",
        "                    continue\n",
        "                  yearTotal += Rnmm[year][i][j]\n",
        "                  if f==0: #add to num points only if Rx1day[i][j][k] > 0\n",
        "                    numPoints = numPoints + 1\n",
        "        avgPerYear[year]=yearTotal/numPoints\n",
        "    return avgPerYear"
      ],
      "execution_count": 0,
      "outputs": []
    },
    {
      "cell_type": "markdown",
      "metadata": {
        "colab_type": "text",
        "id": "5d-ETlFR5r0o"
      },
      "source": [
        "# F2"
      ]
    },
    {
      "cell_type": "code",
      "metadata": {
        "colab_type": "code",
        "id": "Yn1wOFYx5r0p",
        "colab": {}
      },
      "source": [
        "def f2(arr):\n",
        "    avgPerYear = np.zeros((118))\n",
        "    avgPerMonthPerYear = np.zeros((118,12))\n",
        "    for year in range(118):\n",
        "        numPoints = 0\n",
        "        yearAvg = 0\n",
        "        monthAvgYear = np.zeros((12))\n",
        "        for i in range(121):\n",
        "            for j in range(121):\n",
        "                if shapefile[i][j] == 1:\n",
        "                  monthAvg=0\n",
        "                  length = len(arr[year][i][j])\n",
        "                  f=0\n",
        "                  for k in range(length):\n",
        "                    if(arr[year][i][j][k]<0):\n",
        "                      f+=1\n",
        "                      continue\n",
        "                      # print(i,\" \",j,\" \",k)\n",
        "                    monthAvgYear[k] += arr[year][i][j][k]\n",
        "                    monthAvg += arr[year][i][j][k]\n",
        "                  monthAvg /= 12\n",
        "                  if f==0: #add to num points only if Rx1day[i][j][k] > 0\n",
        "                    numPoints = numPoints + 1\n",
        "                  yearAvg = yearAvg + monthAvg\n",
        "        \n",
        "        for i in range(12):\n",
        "            avgPerMonthPerYear[year][i] = monthAvgYear[i]/numPoints\n",
        "        avgPerYear[year]=yearAvg/numPoints\n",
        "    return avgPerYear, avgPerMonthPerYear\n",
        "    "
      ],
      "execution_count": 0,
      "outputs": []
    },
    {
      "cell_type": "code",
      "metadata": {
        "colab_type": "code",
        "id": "aTIS3yvpa6V9",
        "colab": {
          "base_uri": "https://localhost:8080/",
          "height": 1000
        },
        "outputId": "18f02d51-89eb-4b8f-a447-31a390b3481f"
      },
      "source": [
        "# Calculating rainfall foreach i,j,day,year which is greater than or equal to 1\n",
        "def getRainfall(percentile):\n",
        "    day_percentile = np.zeros((121,121,366,30))\n",
        "    rainfall = np.zeros((121,121,366,30))\n",
        "    for year in range(1961,1991):\n",
        "        month_days = is_leap_year(year-1901);\n",
        "        dt = np.array(resized_data[year-1901]);\n",
        "        for i in range(121):\n",
        "            for j in range(121):\n",
        "                if not shapefile[i,j]:\n",
        "                    continue\n",
        "                # Not leap year\n",
        "                if(len(dt[i][j]) != 366):\n",
        "                    day_percentile[i][j][59][year-1961]=-1;\n",
        "                flag=0;\n",
        "                for k in range(len(dt[i][j])):\n",
        "                    if(k==58 and len(dt[i][j]) != 366):\n",
        "                        flag=1\n",
        "                    if(dt[i][j][k]>=1):\n",
        "                        day_percentile[i][j][k+flag][year-1961]=dt[i][j][k];\n",
        "                    else:\n",
        "                        day_percentile[i][j][k+flag][year-1961]=-1;\n",
        "    \n",
        "    rainfall  = day_percentile;\n",
        "    return rainfall , dt\n",
        "\n",
        "def getPercentileValues(percentile):\n",
        "    percentile_values = np.zeros((121,121,366));\n",
        "    for i in range(121):\n",
        "        print(i)\n",
        "        for j in range(121):\n",
        "             if not shapefile[i,j]:\n",
        "                    continue\n",
        "             for day in range(366):\n",
        "                perc = np.percentile(rainfall[i][j][day],percentile);\n",
        "                percentile_values[i][j][day] = perc\n",
        "    return percentile_values\n",
        "\n",
        "\n",
        "def getTotalDays(percentile):\n",
        "    total = np.zeros((121,121))\n",
        "    for year in range(1901,2019):\n",
        "        for i in range(121):\n",
        "            for j in range(121):\n",
        "                if not shapefile[i,j]:\n",
        "                    continue\n",
        "                flag=0\n",
        "                for k in range(len(dt[i][j])):\n",
        "                    if(k==58 and len(dt[i][j]) != 366):\n",
        "                        flag=1\n",
        "                    if(dt[i][j][k] > percentile_values[i][j][k+flag]):\n",
        "                        total[i][j] = total[i][j] + dt[i][j][k]\n",
        "    return total\n",
        "\n",
        "\n",
        "rainfall , dt = getRainfall(95)\n",
        "percentile_values = getPercentileValues(95)\n",
        "total_95 = getTotalDays(95)\n",
        "\n",
        "# for i in total_95:\n",
        "#   print(i)\n",
        "\n",
        "rainfall , dt = getRainfall(99)\n",
        "percentile_values = getPercentileValues(99)\n",
        "total_99 = getTotalDays(99)\n",
        "\n",
        "# for i in total_99:\n",
        "#   print(i)"
      ],
      "execution_count": 91,
      "outputs": [
        {
          "output_type": "stream",
          "text": [
            "0\n",
            "1\n",
            "2\n",
            "3\n",
            "4\n",
            "5\n",
            "6\n",
            "7\n",
            "8\n",
            "9\n",
            "10\n",
            "11\n",
            "12\n",
            "13\n",
            "14\n",
            "15\n",
            "16\n",
            "17\n",
            "18\n",
            "19\n",
            "20\n",
            "21\n",
            "22\n",
            "23\n",
            "24\n",
            "25\n",
            "26\n",
            "27\n",
            "28\n",
            "29\n",
            "30\n",
            "31\n",
            "32\n",
            "33\n",
            "34\n",
            "35\n",
            "36\n",
            "37\n",
            "38\n",
            "39\n",
            "40\n",
            "41\n",
            "42\n",
            "43\n",
            "44\n",
            "45\n",
            "46\n",
            "47\n",
            "48\n",
            "49\n",
            "50\n",
            "51\n",
            "52\n",
            "53\n",
            "54\n",
            "55\n",
            "56\n",
            "57\n",
            "58\n",
            "59\n",
            "60\n",
            "61\n",
            "62\n",
            "63\n",
            "64\n",
            "65\n",
            "66\n",
            "67\n",
            "68\n",
            "69\n",
            "70\n",
            "71\n",
            "72\n",
            "73\n",
            "74\n",
            "75\n",
            "76\n",
            "77\n",
            "78\n",
            "79\n",
            "80\n",
            "81\n",
            "82\n",
            "83\n",
            "84\n",
            "85\n",
            "86\n",
            "87\n",
            "88\n",
            "89\n",
            "90\n",
            "91\n",
            "92\n",
            "93\n",
            "94\n",
            "95\n",
            "96\n",
            "97\n",
            "98\n",
            "99\n",
            "100\n",
            "101\n",
            "102\n",
            "103\n",
            "104\n",
            "105\n",
            "106\n",
            "107\n",
            "108\n",
            "109\n",
            "110\n",
            "111\n",
            "112\n",
            "113\n",
            "114\n",
            "115\n",
            "116\n",
            "117\n",
            "118\n",
            "119\n",
            "120\n",
            "0\n",
            "1\n",
            "2\n",
            "3\n",
            "4\n",
            "5\n",
            "6\n",
            "7\n",
            "8\n",
            "9\n",
            "10\n",
            "11\n",
            "12\n",
            "13\n",
            "14\n",
            "15\n",
            "16\n",
            "17\n",
            "18\n",
            "19\n",
            "20\n",
            "21\n",
            "22\n",
            "23\n",
            "24\n",
            "25\n",
            "26\n",
            "27\n",
            "28\n",
            "29\n",
            "30\n",
            "31\n",
            "32\n",
            "33\n",
            "34\n",
            "35\n",
            "36\n",
            "37\n",
            "38\n",
            "39\n",
            "40\n",
            "41\n",
            "42\n",
            "43\n",
            "44\n",
            "45\n",
            "46\n",
            "47\n",
            "48\n",
            "49\n",
            "50\n",
            "51\n",
            "52\n",
            "53\n",
            "54\n",
            "55\n",
            "56\n",
            "57\n",
            "58\n",
            "59\n",
            "60\n",
            "61\n",
            "62\n",
            "63\n",
            "64\n",
            "65\n",
            "66\n",
            "67\n",
            "68\n",
            "69\n",
            "70\n",
            "71\n",
            "72\n",
            "73\n",
            "74\n",
            "75\n",
            "76\n",
            "77\n",
            "78\n",
            "79\n",
            "80\n",
            "81\n",
            "82\n",
            "83\n",
            "84\n",
            "85\n",
            "86\n",
            "87\n",
            "88\n",
            "89\n",
            "90\n",
            "91\n",
            "92\n",
            "93\n",
            "94\n",
            "95\n",
            "96\n",
            "97\n",
            "98\n",
            "99\n",
            "100\n",
            "101\n",
            "102\n",
            "103\n",
            "104\n",
            "105\n",
            "106\n",
            "107\n",
            "108\n",
            "109\n",
            "110\n",
            "111\n",
            "112\n",
            "113\n",
            "114\n",
            "115\n",
            "116\n",
            "117\n",
            "118\n",
            "119\n",
            "120\n"
          ],
          "name": "stdout"
        }
      ]
    },
    {
      "cell_type": "code",
      "metadata": {
        "id": "Xy_BbXGmN1Uc",
        "colab_type": "code",
        "colab": {}
      },
      "source": [
        "R95pTOT = total_95\n",
        "R99pTOT = total_99"
      ],
      "execution_count": 0,
      "outputs": []
    },
    {
      "cell_type": "code",
      "metadata": {
        "colab_type": "code",
        "id": "dmEm1VP-5r0r",
        "colab": {}
      },
      "source": [
        "avgYearly, avgYearMonthly = f2(Rx1day)"
      ],
      "execution_count": 0,
      "outputs": []
    },
    {
      "cell_type": "code",
      "metadata": {
        "id": "fBLK47e1PxRE",
        "colab_type": "code",
        "colab": {
          "base_uri": "https://localhost:8080/",
          "height": 420
        },
        "outputId": "33ed2879-6065-431e-db36-4d5a69c77eeb"
      },
      "source": [
        "avgYearly"
      ],
      "execution_count": 45,
      "outputs": [
        {
          "output_type": "execute_result",
          "data": {
            "text/plain": [
              "array([22.5584258 , 22.14399432, 24.71383695, 22.35536561, 21.27040014,\n",
              "       24.07648043, 21.3928319 , 21.92401217, 23.4221966 , 24.95032787,\n",
              "       22.49757384, 23.0390926 , 24.85599885, 25.15180787, 25.90376562,\n",
              "       25.61181191, 28.41720953, 19.41896802, 24.89787015, 21.14546177,\n",
              "       23.36450692, 22.74642098, 22.31328166, 24.5905536 , 22.92403391,\n",
              "       23.84814004, 25.43663005, 23.72483631, 23.72406563, 25.22958243,\n",
              "       24.39261878, 23.22590195, 28.82400444, 23.3359831 , 21.43871034,\n",
              "       26.39036979, 25.20637565, 23.70580259, 22.53290866, 25.1992397 ,\n",
              "       23.70428617, 25.13198495, 24.76458218, 26.34596326, 24.18441274,\n",
              "       25.97230184, 24.28563822, 24.24747742, 23.14347263, 22.6536679 ,\n",
              "       21.89493895, 21.5788986 , 22.81032219, 22.89464144, 25.05864378,\n",
              "       27.11365067, 22.86537967, 25.02890436, 25.38943132, 22.28394381,\n",
              "       26.34774291, 22.66547263, 23.14491145, 22.99646975, 20.78040909,\n",
              "       22.69608532, 23.24720347, 22.16073549, 22.4031562 , 24.29932902,\n",
              "       25.10170232, 20.86760506, 24.69629931, 21.6074386 , 25.22705281,\n",
              "       23.44460704, 25.86118165, 25.69860318, 24.59701451, 22.99387186,\n",
              "       24.82957789, 23.6937265 , 26.68034626, 23.63827292, 24.66926876,\n",
              "       25.59270263, 24.47612332, 26.38990432, 23.80167475, 28.0147103 ,\n",
              "       23.68314197, 24.32816675, 24.88123737, 26.13862599, 26.43622628,\n",
              "       25.29528529, 25.62430017, 25.93815253, 22.83307535, 21.40072465,\n",
              "       22.98775721, 21.12346589, 23.97654836, 22.8862448 , 28.49346622,\n",
              "       26.88446026, 26.17663939, 23.88916969, 24.21765983, 26.75738226,\n",
              "       23.23208893, 23.14214453, 27.02321079, 25.40327764, 25.74275504,\n",
              "       22.75257298, 24.1659607 , 22.32684516])"
            ]
          },
          "metadata": {
            "tags": []
          },
          "execution_count": 45
        }
      ]
    },
    {
      "cell_type": "code",
      "metadata": {
        "id": "uoTrzOeCaw9e",
        "colab_type": "code",
        "colab": {}
      },
      "source": [
        "matfile = 'rx1.mat'\n",
        "scipy.io.savemat(matfile, mdict={'out': Rx1day}, oned_as='row')"
      ],
      "execution_count": 0,
      "outputs": []
    },
    {
      "cell_type": "code",
      "metadata": {
        "colab_type": "code",
        "id": "9d_89w4VIxEn",
        "colab": {}
      },
      "source": [
        "Rx5dayYearly, Rx5dayYearMonthly = f2(Rx5day)"
      ],
      "execution_count": 0,
      "outputs": []
    },
    {
      "cell_type": "code",
      "metadata": {
        "id": "f3LtKNdBPzw0",
        "colab_type": "code",
        "colab": {
          "base_uri": "https://localhost:8080/",
          "height": 420
        },
        "outputId": "5d77c045-892b-4ada-eff2-120d2e22a176"
      },
      "source": [
        "Rx5dayYearly"
      ],
      "execution_count": 48,
      "outputs": [
        {
          "output_type": "execute_result",
          "data": {
            "text/plain": [
              "array([42.61840923, 43.91840779, 48.93235659, 43.56649342, 41.04988139,\n",
              "       49.03887669, 42.58436335, 42.78281561, 47.10351464, 50.14338539,\n",
              "       44.99471449, 45.15376056, 48.23409357, 49.52551555, 50.76352225,\n",
              "       51.48922664, 55.93181982, 39.25817509, 49.29087126, 42.25914876,\n",
              "       48.24601727, 45.22493875, 44.33639838, 49.0563364 , 45.66881486,\n",
              "       47.6696964 , 49.63382356, 46.77768922, 47.29702374, 49.44417187,\n",
              "       48.50284352, 47.0389581 , 58.21757058, 47.30467674, 43.5224871 ,\n",
              "       52.85921585, 48.9201844 , 47.87612605, 45.7163852 , 49.43944386,\n",
              "       45.87913295, 50.49808522, 49.52574941, 51.80389967, 48.76057753,\n",
              "       51.73602913, 48.66167152, 50.48005122, 47.54004784, 47.04334915,\n",
              "       42.67549108, 44.23411091, 46.97874755, 46.60781361, 51.82380523,\n",
              "       56.39942036, 45.85171833, 50.22642223, 51.22273661, 45.4928174 ,\n",
              "       52.76523805, 45.55088248, 45.33443679, 46.624026  , 40.65413314,\n",
              "       45.8310622 , 47.50908326, 44.38920222, 45.08500472, 48.90449427,\n",
              "       49.70101306, 42.36117525, 49.80282987, 43.32223809, 51.72342459,\n",
              "       47.1587984 , 51.28278431, 50.01519089, 47.43784916, 46.16410468,\n",
              "       47.41996793, 46.00176358, 54.20817463, 47.22050104, 48.03356199,\n",
              "       51.694713  , 46.19040405, 53.78354932, 45.82206782, 55.6112142 ,\n",
              "       46.9456041 , 47.92100145, 49.52585226, 50.74618313, 53.56718723,\n",
              "       50.67104812, 49.01372423, 51.07276406, 45.94287097, 42.23458735,\n",
              "       45.27860128, 41.34166242, 46.4611101 , 45.69667877, 56.79334583,\n",
              "       51.06566498, 51.75407613, 48.11292375, 45.80772053, 50.21976997,\n",
              "       45.47464115, 44.0846569 , 51.1370812 , 46.76036668, 47.90185664,\n",
              "       44.9095066 , 46.68727307, 42.22823182])"
            ]
          },
          "metadata": {
            "tags": []
          },
          "execution_count": 48
        }
      ]
    },
    {
      "cell_type": "code",
      "metadata": {
        "id": "LmchP6Nvaw9v",
        "colab_type": "code",
        "colab": {}
      },
      "source": [
        "matfile = 'rx5.mat'\n",
        "scipy.io.savemat(matfile, mdict={'out': Rx5day}, oned_as='row')"
      ],
      "execution_count": 0,
      "outputs": []
    },
    {
      "cell_type": "code",
      "metadata": {
        "colab_type": "code",
        "id": "9E4IGQ6ocrBv",
        "colab": {}
      },
      "source": [
        "R10mm_yearly  = f1(R10mm)"
      ],
      "execution_count": 0,
      "outputs": []
    },
    {
      "cell_type": "code",
      "metadata": {
        "id": "m0QacsoaP4Xm",
        "colab_type": "code",
        "colab": {
          "base_uri": "https://localhost:8080/",
          "height": 420
        },
        "outputId": "fd1113cb-2027-49cb-c448-ebca65cf72a3"
      },
      "source": [
        "R10mm_yearly"
      ],
      "execution_count": 51,
      "outputs": [
        {
          "output_type": "execute_result",
          "data": {
            "text/plain": [
              "array([30.65876878, 31.07827375, 34.84810662, 30.3645018 , 28.45123757,\n",
              "       33.97376772, 30.70404062, 32.42542839, 34.60630421, 35.89422467,\n",
              "       31.31394119, 32.91918765, 31.26422678, 34.28770891, 33.42521684,\n",
              "       38.48423948, 42.73704252, 27.81235456, 35.63042099, 28.91622594,\n",
              "       34.38227205, 34.08969748, 32.37021367, 34.43875608, 33.82441295,\n",
              "       34.68817432, 33.90543685, 33.22424371, 33.64565263, 33.20287709,\n",
              "       36.65284536, 33.72709964, 38.28115084, 34.76221705, 32.24941824,\n",
              "       37.10514068, 33.94965094, 36.04146393, 31.05161836, 33.37507933,\n",
              "       28.87687751, 35.76369791, 36.41992807, 36.5381849 , 35.11000635,\n",
              "       37.29426698, 34.81912418, 37.20922361, 36.86122276, 33.63972922,\n",
              "       29.72011847, 31.79077639, 34.37444468, 33.89760948, 38.0463296 ,\n",
              "       39.63295959, 32.56822509, 35.2233975 , 37.6037656 , 31.98561455,\n",
              "       38.04336789, 32.98561455, 33.12587265, 34.26126507, 27.13475777,\n",
              "       30.18024117, 33.22995557, 29.30590226, 31.34525069, 35.12671885,\n",
              "       34.88703194, 26.46795007, 34.21599323, 30.06938862, 37.65199915,\n",
              "       32.23651365, 37.12629575, 35.20160779, 28.54008885, 34.81171991,\n",
              "       32.96297863, 31.78273747, 38.27586207, 32.35963613, 32.61370848,\n",
              "       31.27649672, 30.7152528 , 36.74423524, 31.99280728, 38.92891898,\n",
              "       31.94605458, 31.0012693 , 34.3482124 , 34.98794161, 34.38481066,\n",
              "       33.62513222, 32.96615189, 34.86143431, 32.02750159, 29.56484028,\n",
              "       31.34630844, 26.67167337, 33.68669346, 30.94647768, 34.74846626,\n",
              "       31.14046964, 32.95472816, 32.52168394, 28.07742754, 36.28305479,\n",
              "       33.63761371, 30.84472181, 35.75692828, 29.12100698, 30.538608  ,\n",
              "       31.8417601 , 32.84387561, 29.54008885])"
            ]
          },
          "metadata": {
            "tags": []
          },
          "execution_count": 51
        }
      ]
    },
    {
      "cell_type": "code",
      "metadata": {
        "id": "akbUhcR5aw-O",
        "colab_type": "code",
        "colab": {}
      },
      "source": [
        "matfile = 'R10mm_yearly.mat'\n",
        "scipy.io.savemat(matfile, mdict={'out': R10mm_yearly}, oned_as='row')"
      ],
      "execution_count": 0,
      "outputs": []
    },
    {
      "cell_type": "code",
      "metadata": {
        "colab_type": "code",
        "id": "BjDa1MYbd8y2",
        "colab": {}
      },
      "source": [
        "R20mm_yearly  = f1(R20mm)"
      ],
      "execution_count": 0,
      "outputs": []
    },
    {
      "cell_type": "code",
      "metadata": {
        "id": "5CoI7z3gP6Kc",
        "colab_type": "code",
        "colab": {
          "base_uri": "https://localhost:8080/",
          "height": 420
        },
        "outputId": "fce5e2d9-7dcf-40e2-eafd-5a684db6a255"
      },
      "source": [
        "R20mm_yearly"
      ],
      "execution_count": 54,
      "outputs": [
        {
          "output_type": "execute_result",
          "data": {
            "text/plain": [
              "array([15.61307383, 15.8096044 , 18.00486567, 15.54305056, 14.24095621,\n",
              "       17.22382061, 15.33128834, 16.69134758, 17.42902475, 18.33805796,\n",
              "       15.85889571, 16.79944997, 15.96509414, 17.51026021, 17.29469008,\n",
              "       19.60820817, 21.56209012, 14.33784641, 18.13243072, 14.50179818,\n",
              "       17.86122276, 17.45229532, 16.70044426, 17.91284113, 17.30738312,\n",
              "       17.6513645 , 17.32028771, 16.80156547, 17.0004231 , 16.97567167,\n",
              "       19.07911995, 17.44573725, 19.95176645, 18.16691348, 16.49587476,\n",
              "       19.37592553, 17.62513222, 18.54812778, 16.33298075, 17.12544955,\n",
              "       15.0008462 , 18.84472181, 18.50327904, 18.82250899, 18.17833721,\n",
              "       19.46308441, 17.97292151, 19.0634652 , 18.64586418, 17.20414639,\n",
              "       14.68796277, 16.11889147, 17.81679712, 17.37190607, 19.55130104,\n",
              "       20.39475354, 16.72350328, 18.48212397, 19.32176856, 16.67907764,\n",
              "       20.06579226, 15.86756928, 16.86249207, 17.93124603, 13.95430506,\n",
              "       15.35646287, 16.62407447, 14.84154855, 16.38227205, 18.0939285 ,\n",
              "       17.87010789, 13.60440025, 17.86524223, 15.38967633, 19.36323249,\n",
              "       16.28093928, 18.90755236, 17.65453776, 14.58091813, 17.73725407,\n",
              "       16.52929977, 15.45166067, 19.25830336, 16.83943304, 16.65517241,\n",
              "       15.94182357, 15.69430929, 19.28749736, 16.26718849, 20.24984134,\n",
              "       16.61709329, 15.93886186, 17.68965517, 18.08546647, 17.98646076,\n",
              "       17.20964671, 16.41231225, 17.89422467, 16.49947112, 14.74846626,\n",
              "       15.64607574, 13.41104294, 17.206685  , 15.72794584, 18.15612439,\n",
              "       16.45187222, 17.46625767, 16.55383964, 14.48698963, 18.8572033 ,\n",
              "       17.30209435, 16.05267612, 18.95578591, 14.98603766, 15.66109583,\n",
              "       16.60080389, 17.05521472, 15.28495875])"
            ]
          },
          "metadata": {
            "tags": []
          },
          "execution_count": 54
        }
      ]
    },
    {
      "cell_type": "code",
      "metadata": {
        "id": "eUd3uom6aw-o",
        "colab_type": "code",
        "colab": {}
      },
      "source": [
        "matfile = 'R20mm_yearly.mat'\n",
        "scipy.io.savemat(matfile, mdict={'out': R20mm_yearly}, oned_as='row')"
      ],
      "execution_count": 0,
      "outputs": []
    },
    {
      "cell_type": "code",
      "metadata": {
        "colab_type": "code",
        "id": "HN2dNZrwd9Jl",
        "colab": {}
      },
      "source": [
        "R25mm_yearly  = f1(R25mm)"
      ],
      "execution_count": 0,
      "outputs": []
    },
    {
      "cell_type": "code",
      "metadata": {
        "id": "KFSs7cBvaw-9",
        "colab_type": "code",
        "colab": {}
      },
      "source": [
        "matfile = 'R25mm_yearly.mat'\n",
        "scipy.io.savemat(matfile, mdict={'out': R25mm_yearly}, oned_as='row')"
      ],
      "execution_count": 0,
      "outputs": []
    },
    {
      "cell_type": "code",
      "metadata": {
        "colab_type": "code",
        "id": "HeVlLUpTkFZm",
        "colab": {}
      },
      "source": [
        "CCD_dryYearly = f1(drySpell)"
      ],
      "execution_count": 0,
      "outputs": []
    },
    {
      "cell_type": "code",
      "metadata": {
        "id": "InVGU8n0P7wf",
        "colab_type": "code",
        "colab": {
          "base_uri": "https://localhost:8080/",
          "height": 521
        },
        "outputId": "fbfdd12c-325f-4af9-ad40-621b5a865a84"
      },
      "source": [
        "CCD_dryYearly"
      ],
      "execution_count": 59,
      "outputs": [
        {
          "output_type": "execute_result",
          "data": {
            "text/plain": [
              "array([ 78.07763909,  89.55257034,  93.05796488,  74.68563571,\n",
              "        88.6500952 ,  82.25089909,  86.82018193,  94.0939285 ,\n",
              "        80.82335519,  98.75481278,  79.83795219,  81.98307595,\n",
              "        82.16818278,  77.07488894,  61.82377829,  89.08165856,\n",
              "        63.17347155,  94.42352443,  73.23820605,  95.41358155,\n",
              "       103.07192723,  95.28157394,  76.13010366,  87.66363444,\n",
              "        95.15252803,  76.80389253,  73.38883012,  77.95705521,\n",
              "        77.29151682,  78.84366406,  89.31880685,  81.16818278,\n",
              "        66.85106833,  91.2054157 ,  81.28326634,  61.99809604,\n",
              "        72.49841337,  86.317326  ,  83.14596996,  73.88703194,\n",
              "        84.20985826,  82.95176645,  87.10112122,  71.83266342,\n",
              "        89.16268246,  76.76602496,  82.49502856,  79.04379099,\n",
              "        89.69473239,  88.48783584,  85.95176645,  89.94605458,\n",
              "        94.70298286,  83.69113603,  86.2851703 ,  86.16818278,\n",
              "        77.30463296,  85.28009308,  85.80135392,  89.42585149,\n",
              "        79.56251322,  67.47239264,  78.99111487,  98.32938439,\n",
              "        90.80029617,  89.13560398,  76.649249  ,  85.24328327,\n",
              "       101.34800085,  86.90014809,  84.17812566,  94.77004443,\n",
              "        92.61772795, 100.88364713,  89.10577533,  90.08398561,\n",
              "        78.67950074,  68.67907764,  73.14977787,  90.73450391,\n",
              "        74.06896552,  74.08229321,  89.40131161,  90.02411678,\n",
              "        90.67611593,  77.34228898,  82.46921938,  88.07615824,\n",
              "        88.47345039,  77.37359848,  88.32028771, 100.34588534,\n",
              "        83.60016924,  84.8718003 ,  83.66871166,  92.7285805 ,\n",
              "        77.317326  ,  80.23460969, 101.76687117,  92.71504125,\n",
              "        89.96319018,  89.33594246,  84.18489528,  91.62132431,\n",
              "        77.05521472,  75.94330442,  85.48720118,  82.30949862,\n",
              "        91.72773429,  83.90585995,  94.54812778, 102.6029194 ,\n",
              "        73.72181087,  78.35603977,  66.95599746,  93.97376772,\n",
              "        90.39602285,  90.80981595])"
            ]
          },
          "metadata": {
            "tags": []
          },
          "execution_count": 59
        }
      ]
    },
    {
      "cell_type": "code",
      "metadata": {
        "id": "z1pKioGqaw_d",
        "colab_type": "code",
        "colab": {}
      },
      "source": [
        "matfile = 'CCD_dryYearly.mat'\n",
        "scipy.io.savemat(matfile, mdict={'out': CCD_dryYearly}, oned_as='row')"
      ],
      "execution_count": 0,
      "outputs": []
    },
    {
      "cell_type": "code",
      "metadata": {
        "colab_type": "code",
        "id": "9ee50IWqkFsj",
        "colab": {}
      },
      "source": [
        "CWD_wetYearly = f1(wetSpell)"
      ],
      "execution_count": 0,
      "outputs": []
    },
    {
      "cell_type": "code",
      "metadata": {
        "id": "ffbgfjcoP86s",
        "colab_type": "code",
        "colab": {
          "base_uri": "https://localhost:8080/",
          "height": 420
        },
        "outputId": "bbba343e-9ab3-43cf-f940-6b1326a54bd7"
      },
      "source": [
        "CWD_wetYearly"
      ],
      "execution_count": 62,
      "outputs": [
        {
          "output_type": "execute_result",
          "data": {
            "text/plain": [
              "array([13.65157605, 12.3661942 , 14.73852338, 14.59657288, 11.89274381,\n",
              "       15.02136662, 16.00698117, 18.51660673, 15.35730908, 14.82758621,\n",
              "       13.05542627, 16.14216205, 11.21514703, 16.57139835, 12.00782737,\n",
              "       15.3177491 , 16.75565898, 11.72815739, 14.98836471, 14.03321345,\n",
              "       15.44044849, 16.43790988, 16.25639941, 16.08081235, 15.16649037,\n",
              "       16.40490798, 15.10239052, 13.11127565, 14.74190819, 15.10725619,\n",
              "       16.98878781, 16.05563783, 14.55997461, 15.81171991, 15.95811297,\n",
              "       15.11127565, 15.11614132, 15.7782949 , 13.44679501, 15.37232917,\n",
              "       11.73640787, 16.59847684, 15.54051195, 15.70023271, 15.18341443,\n",
              "       16.14491221, 15.24349482, 15.81214301, 16.24687963, 16.81447007,\n",
              "       12.86397292, 15.66976941, 15.06875397, 15.43346732, 16.97736408,\n",
              "       17.02348212, 14.43346732, 16.04506029, 16.63994077, 15.19335731,\n",
              "       15.79754601, 16.27374656, 13.86693463, 14.81806643, 11.90649461,\n",
              "       14.87962767, 15.2217051 , 13.17685636, 14.37444468, 15.3503279 ,\n",
              "       14.39031098, 12.03765602, 14.92278401, 13.75925534, 15.7152528 ,\n",
              "       15.26866935, 16.3966575 , 14.75333192, 13.15252803, 15.89083986,\n",
              "       14.14554686, 14.41273535, 15.62767083, 14.38967633, 14.15887455,\n",
              "       12.80093082, 11.95959382, 14.77279458, 12.06896552, 15.50835625,\n",
              "       13.93209224, 12.94118891, 12.58938016, 14.49714407, 14.74910091,\n",
              "       13.94753543, 12.23862915, 14.13835414, 13.63570975, 11.57372541,\n",
              "       13.8584726 , 11.14829702, 13.55193569, 12.9841337 , 13.00528877,\n",
              "       13.16754813, 12.82039348, 13.20266554, 11.30378676, 12.19060715,\n",
              "       14.53733869, 13.80156547, 14.44404485, 11.98921092, 10.84874127,\n",
              "       12.65263381, 12.27586207, 12.49968267])"
            ]
          },
          "metadata": {
            "tags": []
          },
          "execution_count": 62
        }
      ]
    },
    {
      "cell_type": "code",
      "metadata": {
        "id": "xutfdHLqaw_y",
        "colab_type": "code",
        "colab": {}
      },
      "source": [
        "matfile = 'CWD_wetYearly.mat'\n",
        "scipy.io.savemat(matfile, mdict={'out': CWD_wetYearly}, oned_as='row')"
      ],
      "execution_count": 0,
      "outputs": []
    },
    {
      "cell_type": "code",
      "metadata": {
        "colab_type": "code",
        "id": "uFvUPe0SCbPm",
        "colab": {}
      },
      "source": [
        "Prcptot_yearly = f1(PRCPTOT)"
      ],
      "execution_count": 0,
      "outputs": []
    },
    {
      "cell_type": "code",
      "metadata": {
        "id": "Pnn9EgqjP-Ot",
        "colab_type": "code",
        "colab": {
          "base_uri": "https://localhost:8080/",
          "height": 521
        },
        "outputId": "a87d8b89-c681-4d2e-d45a-6d2a6d7bd4eb"
      },
      "source": [
        "Prcptot_yearly"
      ],
      "execution_count": 65,
      "outputs": [
        {
          "output_type": "execute_result",
          "data": {
            "text/plain": [
              "array([1027.89471441, 1060.71674423, 1183.15350689, 1026.02410859,\n",
              "        977.70512111, 1139.85750284, 1041.38995168, 1101.54851002,\n",
              "       1153.71906342, 1211.9066141 , 1060.36710091, 1103.77070319,\n",
              "       1090.08644947, 1184.48951164, 1135.42930795, 1281.38086731,\n",
              "       1419.08838107,  929.27114038, 1202.80274144,  983.81121356,\n",
              "       1159.30732578, 1140.08705866, 1111.94737499, 1182.78012091,\n",
              "       1135.75474465, 1182.74155224, 1168.44575271, 1115.80951762,\n",
              "       1149.54671997, 1147.49522639, 1254.07524231, 1145.17894085,\n",
              "       1327.76743037, 1185.46947793, 1087.58394797, 1272.3144403 ,\n",
              "       1173.51428665, 1218.93992281, 1075.47423576, 1162.1308203 ,\n",
              "       1032.94027022, 1234.43699678, 1240.19293786, 1272.27206368,\n",
              "       1191.71610934, 1282.68186807, 1191.63961945, 1252.15289315,\n",
              "       1217.0688468 , 1148.22962105,  987.83204006, 1072.78452961,\n",
              "       1170.62068831, 1152.94803904, 1275.03313976, 1339.65649969,\n",
              "       1101.31044259, 1239.50691731, 1290.65775472, 1105.49689776,\n",
              "       1336.99162914, 1101.91960566, 1127.59610216, 1179.06584234,\n",
              "        933.38396219, 1022.35932814, 1114.60523849, 1018.48276571,\n",
              "       1080.42884612, 1209.85259407, 1197.83053485,  919.28845283,\n",
              "       1206.56847718, 1075.93903633, 1293.64815256, 1127.97097319,\n",
              "       1258.38466861, 1217.38095046, 1016.86496744, 1171.81913618,\n",
              "       1141.08775169, 1075.63385231, 1298.07519823, 1139.27516932,\n",
              "       1133.10149324, 1100.94608664, 1073.99283849, 1289.86688473,\n",
              "       1104.56685016, 1354.83593216, 1126.54099226, 1074.11294399,\n",
              "       1184.79143025, 1239.94384681, 1202.52277493, 1155.06098606,\n",
              "       1156.37044539, 1211.9506389 , 1104.71501861, 1019.75602247,\n",
              "       1072.54340516,  930.75110465, 1163.16368901, 1058.37737316,\n",
              "       1261.55902896, 1156.31103827, 1188.16602123, 1119.00359293,\n",
              "        992.25855935, 1240.03333777, 1147.84178363, 1065.24292949,\n",
              "       1247.20230214, 1033.41199097, 1070.07986665, 1106.72449837,\n",
              "       1134.94545981, 1016.87871657])"
            ]
          },
          "metadata": {
            "tags": []
          },
          "execution_count": 65
        }
      ]
    },
    {
      "cell_type": "code",
      "metadata": {
        "id": "ujlQIhWqaxAI",
        "colab_type": "code",
        "colab": {}
      },
      "source": [
        "matfile = 'Prcptot_yearly.mat'\n",
        "scipy.io.savemat(matfile, mdict={'out': Prcptot_yearly}, oned_as='row')"
      ],
      "execution_count": 0,
      "outputs": []
    },
    {
      "cell_type": "code",
      "metadata": {
        "colab_type": "code",
        "id": "a3LbLWtVF_Vc",
        "colab": {}
      },
      "source": [
        "SDII_yearly = f1(SDII)"
      ],
      "execution_count": 0,
      "outputs": []
    },
    {
      "cell_type": "code",
      "metadata": {
        "id": "yY056hrQP_Zt",
        "colab_type": "code",
        "colab": {
          "base_uri": "https://localhost:8080/",
          "height": 420
        },
        "outputId": "83541c50-d49e-4a9e-eeed-5d61fdc2544b"
      },
      "source": [
        "SDII_yearly"
      ],
      "execution_count": 68,
      "outputs": [
        {
          "output_type": "execute_result",
          "data": {
            "text/plain": [
              "array([11.9847986 , 12.50599768, 13.31223747, 12.1037526 , 12.45771798,\n",
              "       12.66113256, 12.37573122, 13.34281373, 12.65673902, 13.14854813,\n",
              "       11.81482604, 13.0913766 , 12.72161622, 13.13129143, 12.42192013,\n",
              "       13.22731683, 12.97215839, 11.88217708, 12.73717639, 12.68449851,\n",
              "       13.49257551, 12.80568222, 13.128847  , 13.19538021, 12.46502814,\n",
              "       13.00824088, 12.94743263, 12.6095454 , 12.72091675, 12.97904833,\n",
              "       13.28182715, 13.16285495, 13.65421189, 13.16367273, 12.7835778 ,\n",
              "       12.93142802, 13.22675858, 12.79731792, 12.60362353, 12.8555888 ,\n",
              "       13.26665881, 13.58389877, 13.02923329, 13.42095787, 13.41295367,\n",
              "       13.32096946, 13.52857505, 12.87265076, 13.10670878, 13.55387776,\n",
              "       12.29096126, 12.97156931, 13.69141893, 13.20407189, 13.50910492,\n",
              "       13.72073746, 12.81804253, 13.60477217, 13.55133201, 13.22660939,\n",
              "       13.62434007, 12.10585101, 12.74305609, 13.69494328, 12.99975282,\n",
              "       13.07548871, 13.04653942, 13.08283184, 13.38729578, 13.40601327,\n",
              "       13.04290873, 12.90015875, 13.88969041, 12.68677323, 13.7323916 ,\n",
              "       13.60221245, 13.19396699, 13.14741598, 13.26497867, 13.34201422,\n",
              "       13.19339574, 12.56238268, 13.73974148, 13.81493799, 13.29581093,\n",
              "       13.49762154, 12.84070581, 14.37805981, 13.48069744, 13.99975375,\n",
              "       13.61458143, 14.10623279, 14.04392681, 14.17145692, 14.13080212,\n",
              "       13.87690223, 12.85813249, 13.3925677 , 13.33969354, 13.1462459 ,\n",
              "       12.78725212, 12.45868248, 13.28742262, 12.91070989, 14.44846291,\n",
              "       14.26458836, 14.02416913, 13.13861621, 13.53273036, 13.78838805,\n",
              "       13.43039735, 13.50209796, 14.12410827, 13.19500397, 13.92620542,\n",
              "       13.49076645, 13.44396752, 13.23072416])"
            ]
          },
          "metadata": {
            "tags": []
          },
          "execution_count": 68
        }
      ]
    },
    {
      "cell_type": "code",
      "metadata": {
        "id": "6GYXXqi7axAe",
        "colab_type": "code",
        "colab": {}
      },
      "source": [
        "matfile = 'SDII_yearly.mat'\n",
        "scipy.io.savemat(matfile, mdict={'out': SDII_yearly}, oned_as='row')"
      ],
      "execution_count": 0,
      "outputs": []
    },
    {
      "cell_type": "code",
      "metadata": {
        "colab_type": "code",
        "id": "MZzxrOStZD29",
        "colab": {
          "base_uri": "https://localhost:8080/",
          "height": 279
        },
        "outputId": "908cb414-ba78-4243-f8ee-a584c3a294d4"
      },
      "source": [
        "R95pTOT_yearly = f3(R95pTOT)"
      ],
      "execution_count": 93,
      "outputs": [
        {
          "output_type": "error",
          "ename": "IndexError",
          "evalue": "ignored",
          "traceback": [
            "\u001b[0;31m---------------------------------------------------------------------------\u001b[0m",
            "\u001b[0;31mIndexError\u001b[0m                                Traceback (most recent call last)",
            "\u001b[0;32m<ipython-input-93-2e9b9d7cd996>\u001b[0m in \u001b[0;36m<module>\u001b[0;34m()\u001b[0m\n\u001b[0;32m----> 1\u001b[0;31m \u001b[0mR95pTOT_yearly\u001b[0m \u001b[0;34m=\u001b[0m \u001b[0mf3\u001b[0m\u001b[0;34m(\u001b[0m\u001b[0mR95pTOT\u001b[0m\u001b[0;34m)\u001b[0m\u001b[0;34m\u001b[0m\u001b[0;34m\u001b[0m\u001b[0m\n\u001b[0m",
            "\u001b[0;32m<ipython-input-38-a1ecdce4169d>\u001b[0m in \u001b[0;36mf3\u001b[0;34m(Rnmm)\u001b[0m\n\u001b[1;32m      8\u001b[0m                 \u001b[0;32mif\u001b[0m \u001b[0mshapefile\u001b[0m\u001b[0;34m[\u001b[0m\u001b[0mi\u001b[0m\u001b[0;34m]\u001b[0m\u001b[0;34m[\u001b[0m\u001b[0mj\u001b[0m\u001b[0;34m]\u001b[0m \u001b[0;34m==\u001b[0m \u001b[0;36m1\u001b[0m\u001b[0;34m:\u001b[0m\u001b[0;34m\u001b[0m\u001b[0;34m\u001b[0m\u001b[0m\n\u001b[1;32m      9\u001b[0m                   \u001b[0mf\u001b[0m\u001b[0;34m=\u001b[0m\u001b[0;36m0\u001b[0m\u001b[0;34m\u001b[0m\u001b[0;34m\u001b[0m\u001b[0m\n\u001b[0;32m---> 10\u001b[0;31m                   \u001b[0;32mif\u001b[0m\u001b[0;34m(\u001b[0m\u001b[0mRnmm\u001b[0m\u001b[0;34m[\u001b[0m\u001b[0myear\u001b[0m\u001b[0;34m]\u001b[0m\u001b[0;34m[\u001b[0m\u001b[0mi\u001b[0m\u001b[0;34m]\u001b[0m\u001b[0;34m[\u001b[0m\u001b[0mj\u001b[0m\u001b[0;34m]\u001b[0m\u001b[0;34m<\u001b[0m\u001b[0;36m0\u001b[0m\u001b[0;34m)\u001b[0m\u001b[0;34m:\u001b[0m\u001b[0;34m\u001b[0m\u001b[0;34m\u001b[0m\u001b[0m\n\u001b[0m\u001b[1;32m     11\u001b[0m                     \u001b[0mf\u001b[0m\u001b[0;34m+=\u001b[0m\u001b[0;36m1\u001b[0m\u001b[0;34m\u001b[0m\u001b[0;34m\u001b[0m\u001b[0m\n\u001b[1;32m     12\u001b[0m                     \u001b[0;32mcontinue\u001b[0m\u001b[0;34m\u001b[0m\u001b[0;34m\u001b[0m\u001b[0m\n",
            "\u001b[0;31mIndexError\u001b[0m: invalid index to scalar variable."
          ]
        }
      ]
    },
    {
      "cell_type": "code",
      "metadata": {
        "id": "a3SXCQ6PQA66",
        "colab_type": "code",
        "colab": {}
      },
      "source": [
        "R95pTOT_yearly"
      ],
      "execution_count": 0,
      "outputs": []
    },
    {
      "cell_type": "code",
      "metadata": {
        "id": "0g6jCGynaxA-",
        "colab_type": "code",
        "colab": {}
      },
      "source": [
        "matfile = 'R95pTOT_yearly.mat'\n",
        "scipy.io.savemat(matfile, mdict={'out': R95pTOT_yearly}, oned_as='row')"
      ],
      "execution_count": 0,
      "outputs": []
    },
    {
      "cell_type": "code",
      "metadata": {
        "colab_type": "code",
        "id": "xb5YR34fam58",
        "colab": {}
      },
      "source": [
        "R99pTOT_yearly = f3(R99pTOT)"
      ],
      "execution_count": 0,
      "outputs": []
    },
    {
      "cell_type": "code",
      "metadata": {
        "id": "LfdlxCbPQCYI",
        "colab_type": "code",
        "colab": {}
      },
      "source": [
        "R99pTOT_yearly"
      ],
      "execution_count": 0,
      "outputs": []
    },
    {
      "cell_type": "code",
      "metadata": {
        "id": "Ur34B_4UaxBj",
        "colab_type": "code",
        "colab": {}
      },
      "source": [
        "matfile = 'R99pTOT_yearly.mat'\n",
        "scipy.io.savemat(matfile, mdict={'out': R99pTOT_yearly}, oned_as='row')"
      ],
      "execution_count": 0,
      "outputs": []
    },
    {
      "cell_type": "code",
      "metadata": {
        "colab_type": "code",
        "id": "2Cb5_e675r0t",
        "outputId": "1bcc3e4d-f547-413d-824e-b0b320b01d84",
        "colab": {
          "base_uri": "https://localhost:8080/",
          "height": 420
        }
      },
      "source": [
        "avgYearly"
      ],
      "execution_count": 70,
      "outputs": [
        {
          "output_type": "execute_result",
          "data": {
            "text/plain": [
              "array([22.5584258 , 22.14399432, 24.71383695, 22.35536561, 21.27040014,\n",
              "       24.07648043, 21.3928319 , 21.92401217, 23.4221966 , 24.95032787,\n",
              "       22.49757384, 23.0390926 , 24.85599885, 25.15180787, 25.90376562,\n",
              "       25.61181191, 28.41720953, 19.41896802, 24.89787015, 21.14546177,\n",
              "       23.36450692, 22.74642098, 22.31328166, 24.5905536 , 22.92403391,\n",
              "       23.84814004, 25.43663005, 23.72483631, 23.72406563, 25.22958243,\n",
              "       24.39261878, 23.22590195, 28.82400444, 23.3359831 , 21.43871034,\n",
              "       26.39036979, 25.20637565, 23.70580259, 22.53290866, 25.1992397 ,\n",
              "       23.70428617, 25.13198495, 24.76458218, 26.34596326, 24.18441274,\n",
              "       25.97230184, 24.28563822, 24.24747742, 23.14347263, 22.6536679 ,\n",
              "       21.89493895, 21.5788986 , 22.81032219, 22.89464144, 25.05864378,\n",
              "       27.11365067, 22.86537967, 25.02890436, 25.38943132, 22.28394381,\n",
              "       26.34774291, 22.66547263, 23.14491145, 22.99646975, 20.78040909,\n",
              "       22.69608532, 23.24720347, 22.16073549, 22.4031562 , 24.29932902,\n",
              "       25.10170232, 20.86760506, 24.69629931, 21.6074386 , 25.22705281,\n",
              "       23.44460704, 25.86118165, 25.69860318, 24.59701451, 22.99387186,\n",
              "       24.82957789, 23.6937265 , 26.68034626, 23.63827292, 24.66926876,\n",
              "       25.59270263, 24.47612332, 26.38990432, 23.80167475, 28.0147103 ,\n",
              "       23.68314197, 24.32816675, 24.88123737, 26.13862599, 26.43622628,\n",
              "       25.29528529, 25.62430017, 25.93815253, 22.83307535, 21.40072465,\n",
              "       22.98775721, 21.12346589, 23.97654836, 22.8862448 , 28.49346622,\n",
              "       26.88446026, 26.17663939, 23.88916969, 24.21765983, 26.75738226,\n",
              "       23.23208893, 23.14214453, 27.02321079, 25.40327764, 25.74275504,\n",
              "       22.75257298, 24.1659607 , 22.32684516])"
            ]
          },
          "metadata": {
            "tags": []
          },
          "execution_count": 70
        }
      ]
    },
    {
      "cell_type": "code",
      "metadata": {
        "id": "eNLmzcDzM00l",
        "colab_type": "code",
        "colab": {}
      },
      "source": [
        ""
      ],
      "execution_count": 0,
      "outputs": []
    },
    {
      "cell_type": "code",
      "metadata": {
        "id": "MKJ4fqWOM2c4",
        "colab_type": "code",
        "colab": {}
      },
      "source": [
        ""
      ],
      "execution_count": 0,
      "outputs": []
    },
    {
      "cell_type": "code",
      "metadata": {
        "id": "fvRpEtiGaxB4",
        "colab_type": "code",
        "colab": {}
      },
      "source": [
        "matfile = 'avgYearly.mat'\n",
        "scipy.io.savemat(matfile, mdict={'out': avgYearly}, oned_as='row')"
      ],
      "execution_count": 0,
      "outputs": []
    },
    {
      "cell_type": "code",
      "metadata": {
        "colab_type": "code",
        "id": "NN8VK0ZDc4jJ",
        "outputId": "4d617ba8-289a-4952-e7d6-6c8af2fe368b",
        "colab": {
          "base_uri": "https://localhost:8080/",
          "height": 420
        }
      },
      "source": [
        "R10mm_yearly"
      ],
      "execution_count": 72,
      "outputs": [
        {
          "output_type": "execute_result",
          "data": {
            "text/plain": [
              "array([30.65876878, 31.07827375, 34.84810662, 30.3645018 , 28.45123757,\n",
              "       33.97376772, 30.70404062, 32.42542839, 34.60630421, 35.89422467,\n",
              "       31.31394119, 32.91918765, 31.26422678, 34.28770891, 33.42521684,\n",
              "       38.48423948, 42.73704252, 27.81235456, 35.63042099, 28.91622594,\n",
              "       34.38227205, 34.08969748, 32.37021367, 34.43875608, 33.82441295,\n",
              "       34.68817432, 33.90543685, 33.22424371, 33.64565263, 33.20287709,\n",
              "       36.65284536, 33.72709964, 38.28115084, 34.76221705, 32.24941824,\n",
              "       37.10514068, 33.94965094, 36.04146393, 31.05161836, 33.37507933,\n",
              "       28.87687751, 35.76369791, 36.41992807, 36.5381849 , 35.11000635,\n",
              "       37.29426698, 34.81912418, 37.20922361, 36.86122276, 33.63972922,\n",
              "       29.72011847, 31.79077639, 34.37444468, 33.89760948, 38.0463296 ,\n",
              "       39.63295959, 32.56822509, 35.2233975 , 37.6037656 , 31.98561455,\n",
              "       38.04336789, 32.98561455, 33.12587265, 34.26126507, 27.13475777,\n",
              "       30.18024117, 33.22995557, 29.30590226, 31.34525069, 35.12671885,\n",
              "       34.88703194, 26.46795007, 34.21599323, 30.06938862, 37.65199915,\n",
              "       32.23651365, 37.12629575, 35.20160779, 28.54008885, 34.81171991,\n",
              "       32.96297863, 31.78273747, 38.27586207, 32.35963613, 32.61370848,\n",
              "       31.27649672, 30.7152528 , 36.74423524, 31.99280728, 38.92891898,\n",
              "       31.94605458, 31.0012693 , 34.3482124 , 34.98794161, 34.38481066,\n",
              "       33.62513222, 32.96615189, 34.86143431, 32.02750159, 29.56484028,\n",
              "       31.34630844, 26.67167337, 33.68669346, 30.94647768, 34.74846626,\n",
              "       31.14046964, 32.95472816, 32.52168394, 28.07742754, 36.28305479,\n",
              "       33.63761371, 30.84472181, 35.75692828, 29.12100698, 30.538608  ,\n",
              "       31.8417601 , 32.84387561, 29.54008885])"
            ]
          },
          "metadata": {
            "tags": []
          },
          "execution_count": 72
        }
      ]
    },
    {
      "cell_type": "code",
      "metadata": {
        "id": "-e3iZyOaaxCJ",
        "colab_type": "code",
        "colab": {}
      },
      "source": [
        "matfile = 'R10mm_yearly.mat'\n",
        "scipy.io.savemat(matfile, mdict={'out': R10mm_yearly}, oned_as='row')"
      ],
      "execution_count": 0,
      "outputs": []
    },
    {
      "cell_type": "code",
      "metadata": {
        "colab_type": "code",
        "id": "Z8ol5Iq7HXCW",
        "outputId": "7436ac8b-ae3e-4d69-b1f2-8ec3842988e2",
        "colab": {
          "base_uri": "https://localhost:8080/",
          "height": 279
        }
      },
      "source": [
        "import matplotlib.pyplot as plt\n",
        "plt.plot(avgYearly)\n",
        "plt.xlabel('Years')\n",
        "plt.ylabel('Rx1Day Values')\n",
        "plt.savefig('./Rx1dayValues.png')\n",
        "plt.show()"
      ],
      "execution_count": 74,
      "outputs": [
        {
          "output_type": "display_data",
          "data": {
            "image/png": "[encoded data removed]",
            "text/plain": [
              "<Figure size 432x288 with 1 Axes>"
            ]
          },
          "metadata": {
            "tags": [],
            "needs_background": "light"
          }
        }
      ]
    },
    {
      "cell_type": "code",
      "metadata": {
        "colab_type": "code",
        "id": "arPb-hfVLPmv",
        "outputId": "a8bb61cf-b362-4d00-d9a6-fbacdef646e9",
        "colab": {
          "base_uri": "https://localhost:8080/",
          "height": 279
        }
      },
      "source": [
        "import matplotlib.pyplot as plt\n",
        "plt.plot(Rx5dayYearly)\n",
        "plt.xlabel('Years')\n",
        "plt.ylabel('Rx5Day Values')\n",
        "plt.savefig('./Rx5dayValues.png')\n",
        "plt.show()"
      ],
      "execution_count": 75,
      "outputs": [
        {
          "output_type": "display_data",
          "data": {
            "image/png": "[encoded data removed]",
            "text/plain": [
              "<Figure size 432x288 with 1 Axes>"
            ]
          },
          "metadata": {
            "tags": [],
            "needs_background": "light"
          }
        }
      ]
    },
    {
      "cell_type": "code",
      "metadata": {
        "colab_type": "code",
        "id": "pXANBMLXdKst",
        "outputId": "3fae083b-a1d9-488e-d816-fde9fc0857c3",
        "colab": {
          "base_uri": "https://localhost:8080/",
          "height": 279
        }
      },
      "source": [
        "import matplotlib.pyplot as plt\n",
        "plt.plot(R10mm_yearly)\n",
        "plt.xlabel('Years')\n",
        "plt.ylabel('R10mm Values')\n",
        "plt.savefig('./R10mmValues.png')\n",
        "plt.show()"
      ],
      "execution_count": 76,
      "outputs": [
        {
          "output_type": "display_data",
          "data": {
            "image/png": "[encoded data removed]",
            "text/plain": [
              "<Figure size 432x288 with 1 Axes>"
            ]
          },
          "metadata": {
            "tags": [],
            "needs_background": "light"
          }
        }
      ]
    },
    {
      "cell_type": "code",
      "metadata": {
        "colab_type": "code",
        "id": "ZfP7emIoeE9V",
        "outputId": "6b539aed-3086-44a2-d284-625f7881bdd6",
        "colab": {
          "base_uri": "https://localhost:8080/",
          "height": 279
        }
      },
      "source": [
        "import matplotlib.pyplot as plt\n",
        "plt.plot(R20mm_yearly)\n",
        "plt.xlabel('Years')\n",
        "plt.ylabel('R20mm Values')\n",
        "plt.savefig('./R20mmValues.png')\n",
        "plt.show()"
      ],
      "execution_count": 77,
      "outputs": [
        {
          "output_type": "display_data",
          "data": {
            "image/png": "[encoded data removed]",
            "text/plain": [
              "<Figure size 432x288 with 1 Axes>"
            ]
          },
          "metadata": {
            "tags": [],
            "needs_background": "light"
          }
        }
      ]
    },
    {
      "cell_type": "code",
      "metadata": {
        "colab_type": "code",
        "id": "rJsitX_ueF7n",
        "outputId": "32aae27a-1576-40bc-c58a-c3e9f200950f",
        "colab": {
          "base_uri": "https://localhost:8080/",
          "height": 279
        }
      },
      "source": [
        "import matplotlib.pyplot as plt\n",
        "plt.plot(R25mm_yearly)\n",
        "plt.xlabel('Years')\n",
        "plt.ylabel('R25mm Values')\n",
        "plt.savefig('./R25mmValues.png')\n",
        "plt.show()"
      ],
      "execution_count": 78,
      "outputs": [
        {
          "output_type": "display_data",
          "data": {
            "image/png": "[encoded data removed]",
            "text/plain": [
              "<Figure size 432x288 with 1 Axes>"
            ]
          },
          "metadata": {
            "tags": [],
            "needs_background": "light"
          }
        }
      ]
    },
    {
      "cell_type": "code",
      "metadata": {
        "colab_type": "code",
        "id": "6cBc1Gdzj2Cw",
        "outputId": "55cfe3ab-fcdd-4c47-8552-cd3d11209da7",
        "colab": {
          "base_uri": "https://localhost:8080/",
          "height": 279
        }
      },
      "source": [
        "import matplotlib.pyplot as plt\n",
        "plt.plot(CCD_dryYearly)\n",
        "plt.xlabel('Years')\n",
        "plt.ylabel('CCD Dry Spell Values')\n",
        "plt.savefig('./CCDValues.png')\n",
        "plt.show()"
      ],
      "execution_count": 79,
      "outputs": [
        {
          "output_type": "display_data",
          "data": {
            "image/png": "[encoded data removed]",
            "text/plain": [
              "<Figure size 432x288 with 1 Axes>"
            ]
          },
          "metadata": {
            "tags": [],
            "needs_background": "light"
          }
        }
      ]
    },
    {
      "cell_type": "code",
      "metadata": {
        "colab_type": "code",
        "id": "OEQR-ZS-khFd",
        "outputId": "63f02cf3-2487-4ce6-ddb1-f9439b740afc",
        "colab": {
          "base_uri": "https://localhost:8080/",
          "height": 279
        }
      },
      "source": [
        "import matplotlib.pyplot as plt\n",
        "plt.plot(CWD_wetYearly)\n",
        "plt.xlabel('Years')\n",
        "plt.ylabel('CWD Wet Spell Values')\n",
        "plt.savefig('./CWDValues.png')\n",
        "plt.show()"
      ],
      "execution_count": 80,
      "outputs": [
        {
          "output_type": "display_data",
          "data": {
            "image/png": "[encoded data removed]",
            "text/plain": [
              "<Figure size 432x288 with 1 Axes>"
            ]
          },
          "metadata": {
            "tags": [],
            "needs_background": "light"
          }
        }
      ]
    },
    {
      "cell_type": "code",
      "metadata": {
        "colab_type": "code",
        "id": "zflBAWjnklZd",
        "outputId": "9b33d242-0801-4f38-db11-df54809f9293",
        "colab": {
          "base_uri": "https://localhost:8080/",
          "height": 279
        }
      },
      "source": [
        "  import matplotlib.pyplot as plt\n",
        "plt.plot(Prcptot_yearly)\n",
        "plt.xlabel('Years')\n",
        "plt.ylabel('Total Precipitation in Wet Days')\n",
        "plt.savefig('./PRCPTOTValues.png')\n",
        "plt.show()"
      ],
      "execution_count": 81,
      "outputs": [
        {
          "output_type": "display_data",
          "data": {
            "image/png": "[encoded data removed]",
            "text/plain": [
              "<Figure size 432x288 with 1 Axes>"
            ]
          },
          "metadata": {
            "tags": [],
            "needs_background": "light"
          }
        }
      ]
    },
    {
      "cell_type": "code",
      "metadata": {
        "colab_type": "code",
        "id": "2xz7-mvKGs59",
        "outputId": "43efa154-6544-4f9e-faeb-d48b551eb2d8",
        "colab": {
          "base_uri": "https://localhost:8080/",
          "height": 279
        }
      },
      "source": [
        "import matplotlib.pyplot as plt\n",
        "plt.plot(SDII_yearly)\n",
        "plt.xlabel('Years')\n",
        "plt.ylabel('Simple pricipitation intensity index')\n",
        "plt.savefig('./SDIIValues.png')\n",
        "plt.show()"
      ],
      "execution_count": 82,
      "outputs": [
        {
          "output_type": "display_data",
          "data": {
            "image/png": "[encoded data removed]",
            "text/plain": [
              "<Figure size 432x288 with 1 Axes>"
            ]
          },
          "metadata": {
            "tags": [],
            "needs_background": "light"
          }
        }
      ]
    },
    {
      "cell_type": "code",
      "metadata": {
        "colab_type": "code",
        "id": "4kb24UqkC7Ym",
        "colab": {}
      },
      "source": [
        "import matplotlib.pyplot as plt\n",
        "plt.plot(R95pTOT_yearly)\n",
        "plt.xlabel('Years')\n",
        "plt.ylabel('Annual total PRCP when RR > 95p')\n",
        "plt.savefig('./R95pTOTValues.png')\n",
        "plt.show()"
      ],
      "execution_count": 0,
      "outputs": []
    },
    {
      "cell_type": "code",
      "metadata": {
        "colab_type": "code",
        "id": "mI1__TFvaRXQ",
        "colab": {}
      },
      "source": [
        "import matplotlib.pyplot as plt\n",
        "plt.plot(R99pTOT_yearly)\n",
        "plt.xlabel('Years')\n",
        "plt.ylabel('Annual total PRCP when RR > 99p')\n",
        "plt.savefig('./R99pTOTValues.png')\n",
        "plt.show()"
      ],
      "execution_count": 0,
      "outputs": []
    },
    {
      "cell_type": "code",
      "metadata": {
        "id": "_8CT5mOQmJCA",
        "colab_type": "code",
        "colab": {}
      },
      "source": [
        "\n"
      ],
      "execution_count": 0,
      "outputs": []
    },
    {
      "cell_type": "code",
      "metadata": {
        "id": "gWB9Ej7zKhGf",
        "colab_type": "code",
        "colab": {}
      },
      "source": [
        ""
      ],
      "execution_count": 0,
      "outputs": []
    },
    {
      "cell_type": "code",
      "metadata": {
        "id": "MoR_gAkNM3y6",
        "colab_type": "code",
        "colab": {}
      },
      "source": [
        "with open('./Rx1dayvalues.txt', 'w') as file_handler:\n",
        "    for item in Rx1day:\n",
        "        file_handler.write(\"{}\\n\".format(item))"
      ],
      "execution_count": 0,
      "outputs": []
    },
    {
      "cell_type": "code",
      "metadata": {
        "id": "OTXOxoRBM6Au",
        "colab_type": "code",
        "colab": {}
      },
      "source": [
        "with open('./Rx5dayvalues.txt', 'w') as file_handler:\n",
        "    for item in Rx5day:\n",
        "        file_handler.write(\"{}\\n\".format(item))"
      ],
      "execution_count": 0,
      "outputs": []
    },
    {
      "cell_type": "code",
      "metadata": {
        "id": "hC5sgG05OPRL",
        "colab_type": "code",
        "colab": {}
      },
      "source": [
        "with open('./R10mmvalues.txt', 'w') as file_handler:\n",
        "    for item in R10mm:\n",
        "        file_handler.write(\"{}\\n\".format(item))"
      ],
      "execution_count": 0,
      "outputs": []
    },
    {
      "cell_type": "code",
      "metadata": {
        "id": "VWnm3G0AOSmT",
        "colab_type": "code",
        "colab": {}
      },
      "source": [
        "with open('./PRCPTOTvalues.txt', 'w') as file_handler:\n",
        "    for item in PRCPTOT:\n",
        "        file_handler.write(\"{}\\n\".format(item))"
      ],
      "execution_count": 0,
      "outputs": []
    },
    {
      "cell_type": "code",
      "metadata": {
        "id": "sjEExkq5OZQH",
        "colab_type": "code",
        "colab": {}
      },
      "source": [
        "with open('./SDII.txt', 'w') as file_handler:\n",
        "    for item in SDII:\n",
        "        file_handler.write(\"{}\\n\".format(item))"
      ],
      "execution_count": 0,
      "outputs": []
    },
    {
      "cell_type": "code",
      "metadata": {
        "id": "tVgB-gcAOrOA",
        "colab_type": "code",
        "colab": {}
      },
      "source": [
        "with open('./Dryspellvalues.txt', 'w') as file_handler:\n",
        "    for item in drySpell:\n",
        "        file_handler.write(\"{}\\n\".format(item))\n",
        "\n",
        "with open('./Wetspellvalues.txt', 'w') as file_handler:\n",
        "    for item in wetSpell:\n",
        "        file_handler.write(\"{}\\n\".format(item))"
      ],
      "execution_count": 0,
      "outputs": []
    },
    {
      "cell_type": "code",
      "metadata": {
        "id": "JKT0zrfuOdxB",
        "colab_type": "code",
        "colab": {}
      },
      "source": [
        "with open('./95_percentile_values.txt', 'w') as file_handler:\n",
        "    for item in total_95:\n",
        "        file_handler.write(\"{}\\n\".format(item))\n",
        "\n",
        "with open('./99_percentile_values.txt', 'w') as file_handler:\n",
        "    for item in total_99:\n",
        "        file_handler.write(\"{}\\n\".format(item))"
      ],
      "execution_count": 0,
      "outputs": []
    },
    {
      "cell_type": "code",
      "metadata": {
        "id": "RirESKX2Ym94",
        "colab_type": "code",
        "colab": {}
      },
      "source": [
        ""
      ],
      "execution_count": 0,
      "outputs": []
    }
  ]
}